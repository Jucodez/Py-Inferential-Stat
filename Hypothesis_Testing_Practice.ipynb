{
  "cells": [
    {
      "cell_type": "markdown",
      "metadata": {
        "id": "DPwguEmaqGcP"
      },
      "source": [
        "# Practice notebook for hypothesis tests using NHANES data\n",
        "\n",
        "This notebook will give you the opportunity to perform some hypothesis tests with the NHANES data that are similar to\n",
        "what was done in the week 3 case study notebook.\n",
        "\n",
        "You can enter your code into the cells that say \"enter your code here\", and you can type responses to the questions into the cells that say \"Type Markdown and Latex\".\n",
        "\n",
        "Note that most of the code that you will need to write below is very similar to code that appears in the case study notebook.  You will need to edit code from that notebook in small ways to adapt it to the prompts below.\n",
        "\n",
        "To get started, we will use the same module imports and read the data in the same way as we did in the case study:"
      ]
    },
    {
      "cell_type": "code",
      "source": [
        "from google.colab import drive\n",
        "drive.mount('/content/drive', force_remount=True)"
      ],
      "metadata": {
        "id": "pXxETHsTTMXT",
        "colab": {
          "base_uri": "https://localhost:8080/"
        },
        "outputId": "c65be460-7ae4-478b-e984-b3c6a1de8f2f"
      },
      "execution_count": null,
      "outputs": [
        {
          "output_type": "stream",
          "name": "stdout",
          "text": [
            "Mounted at /content/drive\n"
          ]
        }
      ]
    },
    {
      "cell_type": "code",
      "execution_count": null,
      "metadata": {
        "id": "7VudyOYzqGcR"
      },
      "outputs": [],
      "source": [
        "%matplotlib inline\n",
        "import matplotlib.pyplot as plt\n",
        "import seaborn as sns\n",
        "import pandas as pd\n",
        "import statsmodels.api as sm\n",
        "from statsmodels.stats.proportion import confint_proportions_2indep\n",
        "from statsmodels.stats.proportion import proportions_ztest\n",
        "import numpy as np\n",
        "\n",
        "da = pd.read_csv('/content/drive/My Drive/nhanes_2015_2016.csv')"
      ]
    },
    {
      "cell_type": "code",
      "source": [
        "da.head()"
      ],
      "metadata": {
        "colab": {
          "base_uri": "https://localhost:8080/",
          "height": 256
        },
        "id": "8LcU0wM92Iha",
        "outputId": "fa8fde81-1e2c-4103-c454-3c86815dbf1e"
      },
      "execution_count": null,
      "outputs": [
        {
          "output_type": "execute_result",
          "data": {
            "text/plain": [
              "    SEQN  ALQ101  ALQ110  ALQ130  SMQ020  RIAGENDR  RIDAGEYR  RIDRETH1  \\\n",
              "0  83732     1.0     NaN     1.0       1         1        62         3   \n",
              "1  83733     1.0     NaN     6.0       1         1        53         3   \n",
              "2  83734     1.0     NaN     NaN       1         1        78         3   \n",
              "3  83735     2.0     1.0     1.0       2         2        56         3   \n",
              "4  83736     2.0     1.0     1.0       2         2        42         4   \n",
              "\n",
              "   DMDCITZN  DMDEDUC2  ...  BPXSY2  BPXDI2  BMXWT  BMXHT  BMXBMI  BMXLEG  \\\n",
              "0       1.0       5.0  ...   124.0    64.0   94.8  184.5    27.8    43.3   \n",
              "1       2.0       3.0  ...   140.0    88.0   90.4  171.4    30.8    38.0   \n",
              "2       1.0       3.0  ...   132.0    44.0   83.4  170.1    28.8    35.6   \n",
              "3       1.0       5.0  ...   134.0    68.0  109.8  160.9    42.4    38.5   \n",
              "4       1.0       4.0  ...   114.0    54.0   55.2  164.9    20.3    37.4   \n",
              "\n",
              "   BMXARML  BMXARMC  BMXWAIST  HIQ210  \n",
              "0     43.6     35.9     101.1     2.0  \n",
              "1     40.0     33.2     107.9     NaN  \n",
              "2     37.0     31.0     116.5     2.0  \n",
              "3     37.7     38.3     110.1     2.0  \n",
              "4     36.0     27.2      80.4     2.0  \n",
              "\n",
              "[5 rows x 28 columns]"
            ],
            "text/html": [
              "\n",
              "  <div id=\"df-6b11ac0a-1724-4012-b6dc-24a03a7e489b\" class=\"colab-df-container\">\n",
              "    <div>\n",
              "<style scoped>\n",
              "    .dataframe tbody tr th:only-of-type {\n",
              "        vertical-align: middle;\n",
              "    }\n",
              "\n",
              "    .dataframe tbody tr th {\n",
              "        vertical-align: top;\n",
              "    }\n",
              "\n",
              "    .dataframe thead th {\n",
              "        text-align: right;\n",
              "    }\n",
              "</style>\n",
              "<table border=\"1\" class=\"dataframe\">\n",
              "  <thead>\n",
              "    <tr style=\"text-align: right;\">\n",
              "      <th></th>\n",
              "      <th>SEQN</th>\n",
              "      <th>ALQ101</th>\n",
              "      <th>ALQ110</th>\n",
              "      <th>ALQ130</th>\n",
              "      <th>SMQ020</th>\n",
              "      <th>RIAGENDR</th>\n",
              "      <th>RIDAGEYR</th>\n",
              "      <th>RIDRETH1</th>\n",
              "      <th>DMDCITZN</th>\n",
              "      <th>DMDEDUC2</th>\n",
              "      <th>...</th>\n",
              "      <th>BPXSY2</th>\n",
              "      <th>BPXDI2</th>\n",
              "      <th>BMXWT</th>\n",
              "      <th>BMXHT</th>\n",
              "      <th>BMXBMI</th>\n",
              "      <th>BMXLEG</th>\n",
              "      <th>BMXARML</th>\n",
              "      <th>BMXARMC</th>\n",
              "      <th>BMXWAIST</th>\n",
              "      <th>HIQ210</th>\n",
              "    </tr>\n",
              "  </thead>\n",
              "  <tbody>\n",
              "    <tr>\n",
              "      <th>0</th>\n",
              "      <td>83732</td>\n",
              "      <td>1.0</td>\n",
              "      <td>NaN</td>\n",
              "      <td>1.0</td>\n",
              "      <td>1</td>\n",
              "      <td>1</td>\n",
              "      <td>62</td>\n",
              "      <td>3</td>\n",
              "      <td>1.0</td>\n",
              "      <td>5.0</td>\n",
              "      <td>...</td>\n",
              "      <td>124.0</td>\n",
              "      <td>64.0</td>\n",
              "      <td>94.8</td>\n",
              "      <td>184.5</td>\n",
              "      <td>27.8</td>\n",
              "      <td>43.3</td>\n",
              "      <td>43.6</td>\n",
              "      <td>35.9</td>\n",
              "      <td>101.1</td>\n",
              "      <td>2.0</td>\n",
              "    </tr>\n",
              "    <tr>\n",
              "      <th>1</th>\n",
              "      <td>83733</td>\n",
              "      <td>1.0</td>\n",
              "      <td>NaN</td>\n",
              "      <td>6.0</td>\n",
              "      <td>1</td>\n",
              "      <td>1</td>\n",
              "      <td>53</td>\n",
              "      <td>3</td>\n",
              "      <td>2.0</td>\n",
              "      <td>3.0</td>\n",
              "      <td>...</td>\n",
              "      <td>140.0</td>\n",
              "      <td>88.0</td>\n",
              "      <td>90.4</td>\n",
              "      <td>171.4</td>\n",
              "      <td>30.8</td>\n",
              "      <td>38.0</td>\n",
              "      <td>40.0</td>\n",
              "      <td>33.2</td>\n",
              "      <td>107.9</td>\n",
              "      <td>NaN</td>\n",
              "    </tr>\n",
              "    <tr>\n",
              "      <th>2</th>\n",
              "      <td>83734</td>\n",
              "      <td>1.0</td>\n",
              "      <td>NaN</td>\n",
              "      <td>NaN</td>\n",
              "      <td>1</td>\n",
              "      <td>1</td>\n",
              "      <td>78</td>\n",
              "      <td>3</td>\n",
              "      <td>1.0</td>\n",
              "      <td>3.0</td>\n",
              "      <td>...</td>\n",
              "      <td>132.0</td>\n",
              "      <td>44.0</td>\n",
              "      <td>83.4</td>\n",
              "      <td>170.1</td>\n",
              "      <td>28.8</td>\n",
              "      <td>35.6</td>\n",
              "      <td>37.0</td>\n",
              "      <td>31.0</td>\n",
              "      <td>116.5</td>\n",
              "      <td>2.0</td>\n",
              "    </tr>\n",
              "    <tr>\n",
              "      <th>3</th>\n",
              "      <td>83735</td>\n",
              "      <td>2.0</td>\n",
              "      <td>1.0</td>\n",
              "      <td>1.0</td>\n",
              "      <td>2</td>\n",
              "      <td>2</td>\n",
              "      <td>56</td>\n",
              "      <td>3</td>\n",
              "      <td>1.0</td>\n",
              "      <td>5.0</td>\n",
              "      <td>...</td>\n",
              "      <td>134.0</td>\n",
              "      <td>68.0</td>\n",
              "      <td>109.8</td>\n",
              "      <td>160.9</td>\n",
              "      <td>42.4</td>\n",
              "      <td>38.5</td>\n",
              "      <td>37.7</td>\n",
              "      <td>38.3</td>\n",
              "      <td>110.1</td>\n",
              "      <td>2.0</td>\n",
              "    </tr>\n",
              "    <tr>\n",
              "      <th>4</th>\n",
              "      <td>83736</td>\n",
              "      <td>2.0</td>\n",
              "      <td>1.0</td>\n",
              "      <td>1.0</td>\n",
              "      <td>2</td>\n",
              "      <td>2</td>\n",
              "      <td>42</td>\n",
              "      <td>4</td>\n",
              "      <td>1.0</td>\n",
              "      <td>4.0</td>\n",
              "      <td>...</td>\n",
              "      <td>114.0</td>\n",
              "      <td>54.0</td>\n",
              "      <td>55.2</td>\n",
              "      <td>164.9</td>\n",
              "      <td>20.3</td>\n",
              "      <td>37.4</td>\n",
              "      <td>36.0</td>\n",
              "      <td>27.2</td>\n",
              "      <td>80.4</td>\n",
              "      <td>2.0</td>\n",
              "    </tr>\n",
              "  </tbody>\n",
              "</table>\n",
              "<p>5 rows × 28 columns</p>\n",
              "</div>\n",
              "    <div class=\"colab-df-buttons\">\n",
              "\n",
              "  <div class=\"colab-df-container\">\n",
              "    <button class=\"colab-df-convert\" onclick=\"convertToInteractive('df-6b11ac0a-1724-4012-b6dc-24a03a7e489b')\"\n",
              "            title=\"Convert this dataframe to an interactive table.\"\n",
              "            style=\"display:none;\">\n",
              "\n",
              "  <svg xmlns=\"http://www.w3.org/2000/svg\" height=\"24px\" viewBox=\"0 -960 960 960\">\n",
              "    <path d=\"M120-120v-720h720v720H120Zm60-500h600v-160H180v160Zm220 220h160v-160H400v160Zm0 220h160v-160H400v160ZM180-400h160v-160H180v160Zm440 0h160v-160H620v160ZM180-180h160v-160H180v160Zm440 0h160v-160H620v160Z\"/>\n",
              "  </svg>\n",
              "    </button>\n",
              "\n",
              "  <style>\n",
              "    .colab-df-container {\n",
              "      display:flex;\n",
              "      gap: 12px;\n",
              "    }\n",
              "\n",
              "    .colab-df-convert {\n",
              "      background-color: #E8F0FE;\n",
              "      border: none;\n",
              "      border-radius: 50%;\n",
              "      cursor: pointer;\n",
              "      display: none;\n",
              "      fill: #1967D2;\n",
              "      height: 32px;\n",
              "      padding: 0 0 0 0;\n",
              "      width: 32px;\n",
              "    }\n",
              "\n",
              "    .colab-df-convert:hover {\n",
              "      background-color: #E2EBFA;\n",
              "      box-shadow: 0px 1px 2px rgba(60, 64, 67, 0.3), 0px 1px 3px 1px rgba(60, 64, 67, 0.15);\n",
              "      fill: #174EA6;\n",
              "    }\n",
              "\n",
              "    .colab-df-buttons div {\n",
              "      margin-bottom: 4px;\n",
              "    }\n",
              "\n",
              "    [theme=dark] .colab-df-convert {\n",
              "      background-color: #3B4455;\n",
              "      fill: #D2E3FC;\n",
              "    }\n",
              "\n",
              "    [theme=dark] .colab-df-convert:hover {\n",
              "      background-color: #434B5C;\n",
              "      box-shadow: 0px 1px 3px 1px rgba(0, 0, 0, 0.15);\n",
              "      filter: drop-shadow(0px 1px 2px rgba(0, 0, 0, 0.3));\n",
              "      fill: #FFFFFF;\n",
              "    }\n",
              "  </style>\n",
              "\n",
              "    <script>\n",
              "      const buttonEl =\n",
              "        document.querySelector('#df-6b11ac0a-1724-4012-b6dc-24a03a7e489b button.colab-df-convert');\n",
              "      buttonEl.style.display =\n",
              "        google.colab.kernel.accessAllowed ? 'block' : 'none';\n",
              "\n",
              "      async function convertToInteractive(key) {\n",
              "        const element = document.querySelector('#df-6b11ac0a-1724-4012-b6dc-24a03a7e489b');\n",
              "        const dataTable =\n",
              "          await google.colab.kernel.invokeFunction('convertToInteractive',\n",
              "                                                    [key], {});\n",
              "        if (!dataTable) return;\n",
              "\n",
              "        const docLinkHtml = 'Like what you see? Visit the ' +\n",
              "          '<a target=\"_blank\" href=https://colab.research.google.com/notebooks/data_table.ipynb>data table notebook</a>'\n",
              "          + ' to learn more about interactive tables.';\n",
              "        element.innerHTML = '';\n",
              "        dataTable['output_type'] = 'display_data';\n",
              "        await google.colab.output.renderOutput(dataTable, element);\n",
              "        const docLink = document.createElement('div');\n",
              "        docLink.innerHTML = docLinkHtml;\n",
              "        element.appendChild(docLink);\n",
              "      }\n",
              "    </script>\n",
              "  </div>\n",
              "\n",
              "\n",
              "<div id=\"df-6a439c2e-aab0-4fad-9c0b-65ce0354e81b\">\n",
              "  <button class=\"colab-df-quickchart\" onclick=\"quickchart('df-6a439c2e-aab0-4fad-9c0b-65ce0354e81b')\"\n",
              "            title=\"Suggest charts\"\n",
              "            style=\"display:none;\">\n",
              "\n",
              "<svg xmlns=\"http://www.w3.org/2000/svg\" height=\"24px\"viewBox=\"0 0 24 24\"\n",
              "     width=\"24px\">\n",
              "    <g>\n",
              "        <path d=\"M19 3H5c-1.1 0-2 .9-2 2v14c0 1.1.9 2 2 2h14c1.1 0 2-.9 2-2V5c0-1.1-.9-2-2-2zM9 17H7v-7h2v7zm4 0h-2V7h2v10zm4 0h-2v-4h2v4z\"/>\n",
              "    </g>\n",
              "</svg>\n",
              "  </button>\n",
              "\n",
              "<style>\n",
              "  .colab-df-quickchart {\n",
              "      --bg-color: #E8F0FE;\n",
              "      --fill-color: #1967D2;\n",
              "      --hover-bg-color: #E2EBFA;\n",
              "      --hover-fill-color: #174EA6;\n",
              "      --disabled-fill-color: #AAA;\n",
              "      --disabled-bg-color: #DDD;\n",
              "  }\n",
              "\n",
              "  [theme=dark] .colab-df-quickchart {\n",
              "      --bg-color: #3B4455;\n",
              "      --fill-color: #D2E3FC;\n",
              "      --hover-bg-color: #434B5C;\n",
              "      --hover-fill-color: #FFFFFF;\n",
              "      --disabled-bg-color: #3B4455;\n",
              "      --disabled-fill-color: #666;\n",
              "  }\n",
              "\n",
              "  .colab-df-quickchart {\n",
              "    background-color: var(--bg-color);\n",
              "    border: none;\n",
              "    border-radius: 50%;\n",
              "    cursor: pointer;\n",
              "    display: none;\n",
              "    fill: var(--fill-color);\n",
              "    height: 32px;\n",
              "    padding: 0;\n",
              "    width: 32px;\n",
              "  }\n",
              "\n",
              "  .colab-df-quickchart:hover {\n",
              "    background-color: var(--hover-bg-color);\n",
              "    box-shadow: 0 1px 2px rgba(60, 64, 67, 0.3), 0 1px 3px 1px rgba(60, 64, 67, 0.15);\n",
              "    fill: var(--button-hover-fill-color);\n",
              "  }\n",
              "\n",
              "  .colab-df-quickchart-complete:disabled,\n",
              "  .colab-df-quickchart-complete:disabled:hover {\n",
              "    background-color: var(--disabled-bg-color);\n",
              "    fill: var(--disabled-fill-color);\n",
              "    box-shadow: none;\n",
              "  }\n",
              "\n",
              "  .colab-df-spinner {\n",
              "    border: 2px solid var(--fill-color);\n",
              "    border-color: transparent;\n",
              "    border-bottom-color: var(--fill-color);\n",
              "    animation:\n",
              "      spin 1s steps(1) infinite;\n",
              "  }\n",
              "\n",
              "  @keyframes spin {\n",
              "    0% {\n",
              "      border-color: transparent;\n",
              "      border-bottom-color: var(--fill-color);\n",
              "      border-left-color: var(--fill-color);\n",
              "    }\n",
              "    20% {\n",
              "      border-color: transparent;\n",
              "      border-left-color: var(--fill-color);\n",
              "      border-top-color: var(--fill-color);\n",
              "    }\n",
              "    30% {\n",
              "      border-color: transparent;\n",
              "      border-left-color: var(--fill-color);\n",
              "      border-top-color: var(--fill-color);\n",
              "      border-right-color: var(--fill-color);\n",
              "    }\n",
              "    40% {\n",
              "      border-color: transparent;\n",
              "      border-right-color: var(--fill-color);\n",
              "      border-top-color: var(--fill-color);\n",
              "    }\n",
              "    60% {\n",
              "      border-color: transparent;\n",
              "      border-right-color: var(--fill-color);\n",
              "    }\n",
              "    80% {\n",
              "      border-color: transparent;\n",
              "      border-right-color: var(--fill-color);\n",
              "      border-bottom-color: var(--fill-color);\n",
              "    }\n",
              "    90% {\n",
              "      border-color: transparent;\n",
              "      border-bottom-color: var(--fill-color);\n",
              "    }\n",
              "  }\n",
              "</style>\n",
              "\n",
              "  <script>\n",
              "    async function quickchart(key) {\n",
              "      const quickchartButtonEl =\n",
              "        document.querySelector('#' + key + ' button');\n",
              "      quickchartButtonEl.disabled = true;  // To prevent multiple clicks.\n",
              "      quickchartButtonEl.classList.add('colab-df-spinner');\n",
              "      try {\n",
              "        const charts = await google.colab.kernel.invokeFunction(\n",
              "            'suggestCharts', [key], {});\n",
              "      } catch (error) {\n",
              "        console.error('Error during call to suggestCharts:', error);\n",
              "      }\n",
              "      quickchartButtonEl.classList.remove('colab-df-spinner');\n",
              "      quickchartButtonEl.classList.add('colab-df-quickchart-complete');\n",
              "    }\n",
              "    (() => {\n",
              "      let quickchartButtonEl =\n",
              "        document.querySelector('#df-6a439c2e-aab0-4fad-9c0b-65ce0354e81b button');\n",
              "      quickchartButtonEl.style.display =\n",
              "        google.colab.kernel.accessAllowed ? 'block' : 'none';\n",
              "    })();\n",
              "  </script>\n",
              "</div>\n",
              "    </div>\n",
              "  </div>\n"
            ]
          },
          "metadata": {},
          "execution_count": 66
        }
      ]
    },
    {
      "cell_type": "code",
      "source": [
        "da.info()"
      ],
      "metadata": {
        "colab": {
          "base_uri": "https://localhost:8080/"
        },
        "id": "xrPI2l2k2N2h",
        "outputId": "3492bcc4-fafb-4c8c-c5bf-41ebb119a7c6"
      },
      "execution_count": null,
      "outputs": [
        {
          "output_type": "stream",
          "name": "stdout",
          "text": [
            "<class 'pandas.core.frame.DataFrame'>\n",
            "RangeIndex: 5735 entries, 0 to 5734\n",
            "Data columns (total 28 columns):\n",
            " #   Column    Non-Null Count  Dtype  \n",
            "---  ------    --------------  -----  \n",
            " 0   SEQN      5735 non-null   int64  \n",
            " 1   ALQ101    5208 non-null   float64\n",
            " 2   ALQ110    1731 non-null   float64\n",
            " 3   ALQ130    3379 non-null   float64\n",
            " 4   SMQ020    5735 non-null   int64  \n",
            " 5   RIAGENDR  5735 non-null   int64  \n",
            " 6   RIDAGEYR  5735 non-null   int64  \n",
            " 7   RIDRETH1  5735 non-null   int64  \n",
            " 8   DMDCITZN  5734 non-null   float64\n",
            " 9   DMDEDUC2  5474 non-null   float64\n",
            " 10  DMDMARTL  5474 non-null   float64\n",
            " 11  DMDHHSIZ  5735 non-null   int64  \n",
            " 12  WTINT2YR  5735 non-null   float64\n",
            " 13  SDMVPSU   5735 non-null   int64  \n",
            " 14  SDMVSTRA  5735 non-null   int64  \n",
            " 15  INDFMPIR  5134 non-null   float64\n",
            " 16  BPXSY1    5401 non-null   float64\n",
            " 17  BPXDI1    5401 non-null   float64\n",
            " 18  BPXSY2    5535 non-null   float64\n",
            " 19  BPXDI2    5535 non-null   float64\n",
            " 20  BMXWT     5666 non-null   float64\n",
            " 21  BMXHT     5673 non-null   float64\n",
            " 22  BMXBMI    5662 non-null   float64\n",
            " 23  BMXLEG    5345 non-null   float64\n",
            " 24  BMXARML   5427 non-null   float64\n",
            " 25  BMXARMC   5427 non-null   float64\n",
            " 26  BMXWAIST  5368 non-null   float64\n",
            " 27  HIQ210    4732 non-null   float64\n",
            "dtypes: float64(20), int64(8)\n",
            "memory usage: 1.2 MB\n"
          ]
        }
      ]
    },
    {
      "cell_type": "markdown",
      "metadata": {
        "id": "W8t9f7bcqGcS"
      },
      "source": [
        "## Question 1\n",
        "\n",
        "Conduct a hypothesis test (at the 0.05 level) for the null hypothesis that the proportion of women who smoke is equal to the proportion of men who smoke."
      ]
    },
    {
      "cell_type": "code",
      "source": [
        "# check content of gender column\n",
        "da.RIAGENDR.unique()"
      ],
      "metadata": {
        "colab": {
          "base_uri": "https://localhost:8080/"
        },
        "id": "Z6V-zHP22iDH",
        "outputId": "daf4aba7-ef1b-4095-fc4c-0f7698ecc4d6"
      },
      "execution_count": null,
      "outputs": [
        {
          "output_type": "execute_result",
          "data": {
            "text/plain": [
              "array([1, 2])"
            ]
          },
          "metadata": {},
          "execution_count": 68
        }
      ]
    },
    {
      "cell_type": "code",
      "source": [
        "da.SMQ020.unique()"
      ],
      "metadata": {
        "colab": {
          "base_uri": "https://localhost:8080/"
        },
        "id": "oRjGuJuv3ZZ_",
        "outputId": "9b720f64-0dbd-4c66-f957-050b1c5e0476"
      },
      "execution_count": null,
      "outputs": [
        {
          "output_type": "execute_result",
          "data": {
            "text/plain": [
              "array([1, 2, 7, 9])"
            ]
          },
          "metadata": {},
          "execution_count": 69
        }
      ]
    },
    {
      "cell_type": "code",
      "execution_count": null,
      "metadata": {
        "colab": {
          "base_uri": "https://localhost:8080/"
        },
        "id": "v1OQRYbZqGcT",
        "outputId": "7e23360a-7613-43ce-88d8-76716b07abf4"
      },
      "outputs": [
        {
          "output_type": "execute_result",
          "data": {
            "text/plain": [
              "(-16.01400681759787, 1.0202277513491146e-57)"
            ]
          },
          "metadata": {},
          "execution_count": 70
        }
      ],
      "source": [
        "nobs_female = (da.RIAGENDR == 2).sum()\n",
        "count_female = ((da.RIAGENDR == 2)&(da.SMQ020 == 1)).sum()\n",
        "nobs_male = (da.RIAGENDR == 1).sum()\n",
        "count_male = ((da.RIAGENDR == 1)&(da.SMQ020 == 1)).sum()\n",
        "\n",
        "\n",
        "z_stat, p_value = proportions_ztest([count_female, count_male], [nobs_female, nobs_male], alternative='two-sided')\n",
        "z_stat, p_value"
      ]
    },
    {
      "cell_type": "markdown",
      "metadata": {
        "id": "SLaf89ErqGcT"
      },
      "source": [
        "__Q1a.__ Write 1-2 sentences explaining the substance of your findings to someone who does not know anything about statistical hypothesis tests."
      ]
    },
    {
      "cell_type": "markdown",
      "metadata": {
        "id": "QODnm9EJqGcT"
      },
      "source": [
        "The extremely small p-value, well below the significance level of 0.05, suggests strong evidence to reject the null hypothesis. There is a substantial and statistically significant difference in smoking proportions between women and men in the given dataset."
      ]
    },
    {
      "cell_type": "markdown",
      "metadata": {
        "id": "Mp35kuhAqGcT"
      },
      "source": [
        "__Q1b.__ Construct three 95% confidence intervals: one for the proportion of women who smoke, one for the proportion of men who smoke, and one for the difference in the rates of smoking between women and men."
      ]
    },
    {
      "cell_type": "code",
      "execution_count": null,
      "metadata": {
        "colab": {
          "base_uri": "https://localhost:8080/"
        },
        "id": "jHmZcOWFqGcT",
        "outputId": "db3e63e9-b274-441b-f9a5-82f5cf59e7e2"
      },
      "outputs": [
        {
          "output_type": "stream",
          "name": "stdout",
          "text": [
            "0.30443548387096775 2976\n"
          ]
        },
        {
          "output_type": "execute_result",
          "data": {
            "text/plain": [
              "(0.2879026244757051, 0.3209683432662304)"
            ]
          },
          "metadata": {},
          "execution_count": 71
        }
      ],
      "source": [
        "# confidence interval for proportion of women who smoke\n",
        "\n",
        "p= count_female/nobs_female\n",
        "n=nobs_female\n",
        "print(p,n)\n",
        "sm.stats.proportion_confint(n * p, n, alpha=0.05, method='normal')"
      ]
    },
    {
      "cell_type": "code",
      "source": [
        "# confidence interval for proportion of women who smoke\n",
        "\n",
        "p= count_male/nobs_male\n",
        "n=nobs_male\n",
        "print(p,n)\n",
        "sm.stats.proportion_confint(n * p, n, alpha=0.05, method='normal')"
      ],
      "metadata": {
        "colab": {
          "base_uri": "https://localhost:8080/"
        },
        "id": "sV1M1k77D9BU",
        "outputId": "344cb788-d004-4f69-c146-18eb464434c3"
      },
      "execution_count": null,
      "outputs": [
        {
          "output_type": "stream",
          "name": "stdout",
          "text": [
            "0.5121420804639362 2759\n"
          ]
        },
        {
          "output_type": "execute_result",
          "data": {
            "text/plain": [
              "(0.49349056386167417, 0.5307935970661982)"
            ]
          },
          "metadata": {},
          "execution_count": 72
        }
      ]
    },
    {
      "cell_type": "code",
      "source": [
        "#confidence interval for the difference between male and female proportions.\n",
        "diff_confint=confint_proportions_2indep(count_male,nobs_male,count_female,nobs_female,method=None,compare='diff',alpha=0.05,correction=True)\n",
        "diff_confint"
      ],
      "metadata": {
        "colab": {
          "base_uri": "https://localhost:8080/"
        },
        "id": "B9Vl06kkESu7",
        "outputId": "8461f5a6-e78a-4cc9-b1b9-19050bdac568"
      },
      "execution_count": null,
      "outputs": [
        {
          "output_type": "execute_result",
          "data": {
            "text/plain": [
              "(0.18261740933884565, 0.23243603176242983)"
            ]
          },
          "metadata": {},
          "execution_count": 73
        }
      ]
    },
    {
      "cell_type": "markdown",
      "metadata": {
        "id": "WjfwMI34qGcT"
      },
      "source": [
        "__Q1c.__ Comment on any ways in which the confidence intervals that you found in part b reinforce, contradict, or add support to the hypothesis test conducted in part a."
      ]
    },
    {
      "cell_type": "markdown",
      "metadata": {
        "id": "KpyGZzbsqGcU"
      },
      "source": [
        "The confidence intervals support because they show that there is a substantial and statistically significant difference in smoking proportions between women and men in the given dataset. They indicate that the male proportion is substantially larger."
      ]
    },
    {
      "cell_type": "markdown",
      "metadata": {
        "id": "wzsjuGlOqGcU"
      },
      "source": [
        "## Question 2\n",
        "\n",
        "Partition the population into two groups based on whether a person has graduated college or not, using the educational attainment variable [DMDEDUC2](https://wwwn.cdc.gov/Nchs/Nhanes/2015-2016/DEMO_I.htm#DMDEDUC2).  Then conduct a test of the null hypothesis that the average heights (in centimeters) of the two groups are equal.  Next, convert the heights from centimeters to inches, and conduct a test of the null hypothesis that the average heights (in inches) of the two groups are equal."
      ]
    },
    {
      "cell_type": "code",
      "source": [
        "#examine education column\n",
        "da.DMDEDUC2.unique()"
      ],
      "metadata": {
        "colab": {
          "base_uri": "https://localhost:8080/"
        },
        "id": "mJTZw9XxGa_a",
        "outputId": "0aad6f06-42dc-4444-8172-b4c0f977952e"
      },
      "execution_count": null,
      "outputs": [
        {
          "output_type": "execute_result",
          "data": {
            "text/plain": [
              "array([ 5.,  3.,  4.,  2., nan,  1.,  9.])"
            ]
          },
          "metadata": {},
          "execution_count": 74
        }
      ]
    },
    {
      "cell_type": "code",
      "source": [
        "# examine height column\n",
        "da.BMXHT.describe()"
      ],
      "metadata": {
        "colab": {
          "base_uri": "https://localhost:8080/"
        },
        "id": "ft30pu1GIJ5Y",
        "outputId": "bfdbd68b-0a1b-457c-ac59-879af6dde70c"
      },
      "execution_count": null,
      "outputs": [
        {
          "output_type": "execute_result",
          "data": {
            "text/plain": [
              "count    5673.000000\n",
              "mean      166.142834\n",
              "std        10.079264\n",
              "min       129.700000\n",
              "25%       158.700000\n",
              "50%       166.000000\n",
              "75%       173.500000\n",
              "max       202.700000\n",
              "Name: BMXHT, dtype: float64"
            ]
          },
          "metadata": {},
          "execution_count": 75
        }
      ]
    },
    {
      "cell_type": "code",
      "source": [
        "da.BMXHT.isnull().sum()"
      ],
      "metadata": {
        "colab": {
          "base_uri": "https://localhost:8080/"
        },
        "id": "4fM1jO_UIga9",
        "outputId": "cbff6784-ad5b-4846-e0f7-9a369bbe95b3"
      },
      "execution_count": null,
      "outputs": [
        {
          "output_type": "execute_result",
          "data": {
            "text/plain": [
              "62"
            ]
          },
          "metadata": {},
          "execution_count": 76
        }
      ]
    },
    {
      "cell_type": "code",
      "source": [
        "# remove null vallues and those that dont know\n",
        "df=da.loc[(da.DMDEDUC2.notnull())&(da.BMXHT.notnull())&(da.DMDEDUC2!=9)]\n",
        "df.DMDEDUC2.unique(),df.BMXHT.isnull().sum()"
      ],
      "metadata": {
        "colab": {
          "base_uri": "https://localhost:8080/"
        },
        "id": "bjsw471rGwiI",
        "outputId": "b5c13536-d8a5-4e5f-fa4d-4af45cea8dc6"
      },
      "execution_count": null,
      "outputs": [
        {
          "output_type": "execute_result",
          "data": {
            "text/plain": [
              "(array([5., 3., 4., 2., 1.]), 0)"
            ]
          },
          "metadata": {},
          "execution_count": 77
        }
      ]
    },
    {
      "cell_type": "code",
      "execution_count": null,
      "metadata": {
        "colab": {
          "base_uri": "https://localhost:8080/"
        },
        "id": "H8jOCpwcqGcU",
        "outputId": "8f40cef4-8412-43a7-8232-48da1cfc359b"
      },
      "outputs": [
        {
          "output_type": "execute_result",
          "data": {
            "text/plain": [
              "(7.569245765210209, 3.7539736083220206e-14)"
            ]
          },
          "metadata": {},
          "execution_count": 78
        }
      ],
      "source": [
        "# hypothesis testing using centimeters\n",
        "\n",
        "col_height= df.loc[(df.DMDEDUC2 == 5)]['BMXHT']\n",
        "no_col_height= df.loc[(df.DMDEDUC2 != 5)]['BMXHT']\n",
        "sm.stats.ztest(col_height, no_col_height)\n"
      ]
    },
    {
      "cell_type": "code",
      "source": [
        "# hypothesis testing using inches\n",
        "\n",
        "df.loc[:,'BMXHT'] =df.loc[:,'BMXHT']/2.54\n",
        "\n",
        "col_height= df.loc[(df.DMDEDUC2 == 5)]['BMXHT']\n",
        "no_col_height= df.loc[(df.DMDEDUC2 != 5)]['BMXHT']\n",
        "sm.stats.ztest(col_height, no_col_height)"
      ],
      "metadata": {
        "colab": {
          "base_uri": "https://localhost:8080/"
        },
        "id": "Wq57WFFmJeKv",
        "outputId": "4f5f1fcb-0322-49c6-b9ae-7937994e54c5"
      },
      "execution_count": null,
      "outputs": [
        {
          "output_type": "stream",
          "name": "stderr",
          "text": [
            "<ipython-input-79-29c88b76cf34>:3: SettingWithCopyWarning: \n",
            "A value is trying to be set on a copy of a slice from a DataFrame.\n",
            "Try using .loc[row_indexer,col_indexer] = value instead\n",
            "\n",
            "See the caveats in the documentation: https://pandas.pydata.org/pandas-docs/stable/user_guide/indexing.html#returning-a-view-versus-a-copy\n",
            "  df.loc[:,'BMXHT'] =df.loc[:,'BMXHT']/2.54\n"
          ]
        },
        {
          "output_type": "execute_result",
          "data": {
            "text/plain": [
              "(7.569245765210218, 3.753973608321762e-14)"
            ]
          },
          "metadata": {},
          "execution_count": 79
        }
      ]
    },
    {
      "cell_type": "code",
      "source": [],
      "metadata": {
        "id": "rDFgCIIuMHtX"
      },
      "execution_count": null,
      "outputs": []
    },
    {
      "cell_type": "markdown",
      "metadata": {
        "id": "JHNT9x9PqGcU"
      },
      "source": [
        "__Q2a.__ Based on the analysis performed here, are you confident that people who graduated from college have a different average height compared to people who did not graduate from college?"
      ]
    },
    {
      "cell_type": "markdown",
      "metadata": {
        "id": "6zoAb-hrqGcU"
      },
      "source": [
        "Yes I am confident because the p value is really small and way below the significance level of 0.05 showing that the null hypothesis should be rejected"
      ]
    },
    {
      "cell_type": "markdown",
      "metadata": {
        "id": "7DQ8YHRdqGcV"
      },
      "source": [
        "__Q2b:__ How do the results obtained using the heights expressed in inches compare to the results obtained using the heights expressed in centimeters?"
      ]
    },
    {
      "cell_type": "markdown",
      "metadata": {
        "id": "VjmL0XxCqGcV"
      },
      "source": [
        "They are bascically the same"
      ]
    },
    {
      "cell_type": "markdown",
      "metadata": {
        "id": "mgZsHlrIqGcV"
      },
      "source": [
        "## Question 3\n",
        "\n",
        "Conduct a hypothesis test of the null hypothesis that the average BMI for men between 30 and 40 is equal to the average BMI for men between 50 and 60.  Then carry out this test again after log transforming the BMI values."
      ]
    },
    {
      "cell_type": "code",
      "execution_count": null,
      "metadata": {
        "colab": {
          "base_uri": "https://localhost:8080/"
        },
        "id": "mWfmDs_PqGcV",
        "outputId": "0a130e58-098f-4991-c76e-5bb8110323ce"
      },
      "outputs": [
        {
          "output_type": "execute_result",
          "data": {
            "text/plain": [
              "count    5662.000000\n",
              "mean       29.382197\n",
              "std         7.095921\n",
              "min        14.500000\n",
              "25%        24.300000\n",
              "50%        28.300000\n",
              "75%        33.000000\n",
              "max        67.300000\n",
              "Name: BMXBMI, dtype: float64"
            ]
          },
          "metadata": {},
          "execution_count": 80
        }
      ],
      "source": [
        "#examine BMI\n",
        "da.BMXBMI.describe()"
      ]
    },
    {
      "cell_type": "code",
      "source": [
        "da.BMXBMI.isnull().sum()"
      ],
      "metadata": {
        "colab": {
          "base_uri": "https://localhost:8080/"
        },
        "id": "vIK-8emHN1Wp",
        "outputId": "60d253b7-7e9e-4208-c8b1-a91da019eb82"
      },
      "execution_count": null,
      "outputs": [
        {
          "output_type": "execute_result",
          "data": {
            "text/plain": [
              "73"
            ]
          },
          "metadata": {},
          "execution_count": 81
        }
      ]
    },
    {
      "cell_type": "code",
      "source": [
        "# hypothesis testing using bmi\n",
        "BMI_30_40= da.loc[(da.RIAGENDR==1)&(da.RIDAGEYR >= 30)&(da.RIDAGEYR <= 40)&(da.BMXBMI.notnull())]['BMXBMI']\n",
        "BMI_50_60= da.loc[(da.RIAGENDR==1)&(da.RIDAGEYR >= 50)&(da.RIDAGEYR <= 60)&(da.BMXBMI.notnull())]['BMXBMI']\n",
        "BMI_50_60.mean(),BMI_30_40.mean()"
      ],
      "metadata": {
        "colab": {
          "base_uri": "https://localhost:8080/"
        },
        "id": "Lb-pMEhiOJrV",
        "outputId": "319f7e6f-7e72-4560-b8d3-a61366d4c773"
      },
      "execution_count": null,
      "outputs": [
        {
          "output_type": "execute_result",
          "data": {
            "text/plain": [
              "(29.25, 29.61372950819672)"
            ]
          },
          "metadata": {},
          "execution_count": 82
        }
      ]
    },
    {
      "cell_type": "code",
      "source": [
        "sm.stats.ztest(BMI_30_40, BMI_50_60)"
      ],
      "metadata": {
        "colab": {
          "base_uri": "https://localhost:8080/"
        },
        "id": "bX6Bf5j5POaV",
        "outputId": "1ff452e8-5c4b-490f-d2cb-1270ac9de5f9"
      },
      "execution_count": null,
      "outputs": [
        {
          "output_type": "execute_result",
          "data": {
            "text/plain": [
              "(0.8984008016755222, 0.36897190924214873)"
            ]
          },
          "metadata": {},
          "execution_count": 83
        }
      ]
    },
    {
      "cell_type": "code",
      "source": [
        "# hypothesis testing using log (bmi)\n",
        "BMI_30_40= np.log(da.loc[(da.RIAGENDR==1)&(da.RIDAGEYR >= 30)&(da.RIDAGEYR <= 40)&(da.BMXBMI.notnull())]['BMXBMI'])\n",
        "BMI_50_60= np.log(da.loc[(da.RIAGENDR==1)&(da.RIDAGEYR >= 50)&(da.RIDAGEYR <= 60)&(da.BMXBMI.notnull())]['BMXBMI'])\n",
        "BMI_50_60.mean(),BMI_30_40.mean()"
      ],
      "metadata": {
        "colab": {
          "base_uri": "https://localhost:8080/"
        },
        "id": "_H0hSfvhQepu",
        "outputId": "3a1b68d1-13c9-4103-e14a-61ab68028491"
      },
      "execution_count": null,
      "outputs": [
        {
          "output_type": "execute_result",
          "data": {
            "text/plain": [
              "(3.356230206122632, 3.3653907870271915)"
            ]
          },
          "metadata": {},
          "execution_count": 84
        }
      ]
    },
    {
      "cell_type": "code",
      "source": [
        "sm.stats.ztest(BMI_30_40, BMI_50_60)"
      ],
      "metadata": {
        "colab": {
          "base_uri": "https://localhost:8080/"
        },
        "id": "VRVHQwNNQil0",
        "outputId": "1f831aef-a485-48b6-c9df-1d6ef1283384"
      },
      "execution_count": null,
      "outputs": [
        {
          "output_type": "execute_result",
          "data": {
            "text/plain": [
              "(0.7057844184100666, 0.4803222133688403)"
            ]
          },
          "metadata": {},
          "execution_count": 85
        }
      ]
    },
    {
      "cell_type": "markdown",
      "metadata": {
        "id": "QmEnVDABqGcV"
      },
      "source": [
        "__Q3a.__ How would you characterize the evidence that mean BMI differs between these age bands, and how would you characterize the evidence that mean log BMI differs between these age bands?"
      ]
    },
    {
      "cell_type": "markdown",
      "metadata": {
        "id": "okmd9abuqGcV"
      },
      "source": [
        "Both BMI and log BMI do not significantly differ between the age bands as the p values are"
      ]
    },
    {
      "cell_type": "markdown",
      "metadata": {
        "id": "xc5U_6tiqGcV"
      },
      "source": [
        "## Question 4\n",
        "\n",
        "Suppose we wish to compare the mean BMI between college graduates and people who have not graduated from college, focusing on women between the ages of 30 and 40.  First, consider the variance of BMI within each of these subpopulations using graphical techniques, and through the estimated subpopulation variances.  Then, calculate pooled and unpooled estimates of the standard error for the difference between the mean BMI in the two populations being compared.  Finally, test the null hypothesis that the two population means are equal, using each of the two different standard errors."
      ]
    },
    {
      "cell_type": "code",
      "source": [
        "df=da.loc[(da.DMDEDUC2.notnull())&(da.DMDEDUC2!=9)&(da.BMXBMI.notnull())]\n",
        "grad_women_30_40= df.loc[(df.RIAGENDR == 2)&(df.RIDAGEYR >= 30)&(df.RIDAGEYR <= 40)&(df.DMDEDUC2 == 5)]['BMXBMI']\n",
        "not_grad_women_30_40= df.loc[(df.RIAGENDR == 2)&(df.RIDAGEYR >= 30)&(df.RIDAGEYR <= 40)&(df.DMDEDUC2 != 5)]['BMXBMI']\n"
      ],
      "metadata": {
        "id": "i5_B5-LI5Ds3"
      },
      "execution_count": null,
      "outputs": []
    },
    {
      "cell_type": "code",
      "source": [
        "# Graphical representation of subpopulation variance\n",
        "sns.kdeplot(grad_women_30_40, label=\"Graduate Women\")\n",
        "sns.kdeplot(not_grad_women_30_40, label=\"Non-Graduate Women\")\n",
        "\n",
        "\n",
        "plt.legend()"
      ],
      "metadata": {
        "id": "kXC01TBT5u1I",
        "outputId": "d56f149a-81ed-4321-9ab1-7d17438ead9e",
        "colab": {
          "base_uri": "https://localhost:8080/",
          "height": 466
        }
      },
      "execution_count": null,
      "outputs": [
        {
          "output_type": "execute_result",
          "data": {
            "text/plain": [
              "<matplotlib.legend.Legend at 0x7a0d534012d0>"
            ]
          },
          "metadata": {},
          "execution_count": 87
        },
        {
          "output_type": "display_data",
          "data": {
            "text/plain": [
              "<Figure size 640x480 with 1 Axes>"
            ],
            "image/png": "[encoded data removed]"
          },
          "metadata": {}
        }
      ]
    },
    {
      "cell_type": "code",
      "source": [
        "# description of graduate women bmi\n",
        "grad_women_30_40.describe()"
      ],
      "metadata": {
        "colab": {
          "base_uri": "https://localhost:8080/"
        },
        "id": "zrgWIhbI71K6",
        "outputId": "1ff8c1ff-4f8d-4621-d1f6-9e5771bdb530"
      },
      "execution_count": null,
      "outputs": [
        {
          "output_type": "execute_result",
          "data": {
            "text/plain": [
              "count    171.000000\n",
              "mean      27.808187\n",
              "std        7.358264\n",
              "min       17.100000\n",
              "25%       22.750000\n",
              "50%       26.300000\n",
              "75%       31.150000\n",
              "max       62.700000\n",
              "Name: BMXBMI, dtype: float64"
            ]
          },
          "metadata": {},
          "execution_count": 88
        }
      ]
    },
    {
      "cell_type": "code",
      "source": [
        "# description of non-graduate women bmi\n",
        "not_grad_women_30_40.describe()"
      ],
      "metadata": {
        "colab": {
          "base_uri": "https://localhost:8080/"
        },
        "id": "K6oejDlr8Dvj",
        "outputId": "c5b7ba5d-614b-4aee-e048-6cb891ad425e"
      },
      "execution_count": null,
      "outputs": [
        {
          "output_type": "execute_result",
          "data": {
            "text/plain": [
              "count    354.000000\n",
              "mean      31.257345\n",
              "std        8.256083\n",
              "min       16.600000\n",
              "25%       25.300000\n",
              "50%       29.500000\n",
              "75%       35.875000\n",
              "max       60.900000\n",
              "Name: BMXBMI, dtype: float64"
            ]
          },
          "metadata": {},
          "execution_count": 89
        }
      ]
    },
    {
      "cell_type": "code",
      "source": [
        "# estimated subpopulation variances\n",
        "\n",
        "print(\"Graduate women variance :\", grad_women_30_40.var())\n",
        "print(\"Non-Graduate women variance :\", not_grad_women_30_40.var())\n"
      ],
      "metadata": {
        "id": "pa9CkDQy7xL-",
        "outputId": "b2c972a0-bb56-484c-ee7f-ed53804ff46b",
        "colab": {
          "base_uri": "https://localhost:8080/"
        }
      },
      "execution_count": null,
      "outputs": [
        {
          "output_type": "stream",
          "name": "stdout",
          "text": [
            "Graduate women variance : 54.1440502235982\n",
            "Non-Graduate women variance : 68.16290624349803\n"
          ]
        }
      ]
    },
    {
      "cell_type": "code",
      "source": [
        "n1 = len(grad_women_30_40)\n",
        "s1= grad_women_30_40.std()\n",
        "n2= len(not_grad_women_30_40)\n",
        "s2= not_grad_women_30_40.std()\n",
        "\n",
        "pooled_estimate = np.sqrt(((n1 - 1) * s1**2 + (n2 - 1) * s2**2) / (n1 + n2 - 2)) * np.sqrt((1 / n1) + (1 / n2))\n",
        "unpooled_estimate = np.sqrt((s1**2 / n1) + (s2**2 / n2))\n",
        "\n",
        "\n",
        "print(\"pooled estimate of the standard error :\", pooled_estimate)\n",
        "print(\"unpooled estimates of the standard error :\", unpooled_estimate)\n",
        "\n"
      ],
      "metadata": {
        "id": "H4efHISkDEtz",
        "colab": {
          "base_uri": "https://localhost:8080/"
        },
        "outputId": "653ecdaf-49bf-4427-fb57-ebfb3844f7b9"
      },
      "execution_count": null,
      "outputs": [
        {
          "output_type": "stream",
          "name": "stdout",
          "text": [
            "pooled estimate of the standard error : 0.7427272812742616\n",
            "unpooled estimates of the standard error : 0.7135702174708334\n"
          ]
        }
      ]
    },
    {
      "cell_type": "code",
      "source": [
        "grad_women_30_40 = sm.stats.DescrStatsW(grad_women_30_40)\n",
        "not_grad_women_30_40 = sm.stats.DescrStatsW(not_grad_women_30_40)\n",
        "\n",
        "print(\"pooled: \", sm.stats.CompareMeans(grad_women_30_40, not_grad_women_30_40).ztest_ind(usevar='pooled'))\n",
        "print(\"unequal: \", sm.stats.CompareMeans(grad_women_30_40, not_grad_women_30_40).ztest_ind(usevar='unequal'))"
      ],
      "metadata": {
        "colab": {
          "base_uri": "https://localhost:8080/"
        },
        "id": "EDiepMvm4Ohz",
        "outputId": "530d9963-73b5-4e9c-86ec-b26923df38f1"
      },
      "execution_count": null,
      "outputs": [
        {
          "output_type": "stream",
          "name": "stdout",
          "text": [
            "pooled:  (-4.643908450956424, 3.4187910067116893e-06)\n",
            "unequal:  (-4.833662355599101, 1.340438616920389e-06)\n"
          ]
        }
      ]
    },
    {
      "cell_type": "markdown",
      "metadata": {
        "id": "TAmCkuogqGcW"
      },
      "source": [
        "__Q4a.__ Comment on the strength of evidence against the null hypothesis that these two populations have equal mean BMI."
      ]
    },
    {
      "cell_type": "markdown",
      "metadata": {
        "id": "Ni1u9h-cqGcW"
      },
      "source": [
        "The BMI values between the two populations are not equal, leading us to reject the null hypothesis. This decision is based on a very small p-value, which falls below our predetermined significance level for the alternative hypothesis."
      ]
    },
    {
      "cell_type": "markdown",
      "metadata": {
        "id": "O4dZzyHGqGcW"
      },
      "source": [
        "__Q4b.__ Comment on the degree to which the two populations have different variances, and on the extent to which the results using different approaches to estimating the standard error of the mean difference give divergent results."
      ]
    },
    {
      "cell_type": "markdown",
      "metadata": {
        "id": "6pa_QQgQqGcW"
      },
      "source": [
        "The difference between the two variances is not so significant. This is resulted in a similar outcome in the hypothesis test"
      ]
    },
    {
      "cell_type": "markdown",
      "metadata": {
        "id": "62ArW7C_qGcW"
      },
      "source": [
        "## Question 5\n",
        "\n",
        "Conduct a test of the null hypothesis that the first and second diastolic blood pressure measurements within a subject have the same mean values."
      ]
    },
    {
      "cell_type": "code",
      "execution_count": null,
      "metadata": {
        "id": "1eLlMFqGqGcW",
        "colab": {
          "base_uri": "https://localhost:8080/"
        },
        "outputId": "ec10ae7d-b17c-409a-9254-3c8892b6b0c8"
      },
      "outputs": [
        {
          "output_type": "execute_result",
          "data": {
            "text/plain": [
              "(4.140387087476751, 3.467202439743513e-05)"
            ]
          },
          "metadata": {},
          "execution_count": 95
        }
      ],
      "source": [
        "df=da.loc[(da.BPXDI1.notnull())&(da.BPXDI2.notnull())]\n",
        "df = df.BPXDI1 - df.BPXDI2\n",
        "sm.stats.ztest(df)"
      ]
    },
    {
      "cell_type": "markdown",
      "metadata": {
        "id": "63018LVkqGcW"
      },
      "source": [
        "__Q5a.__ Briefly describe your findings for an audience that is not familiar with statistical hypothesis testing."
      ]
    },
    {
      "cell_type": "markdown",
      "metadata": {
        "id": "RLqVll1oqGcX"
      },
      "source": [
        "The extremely small p-value, well below the significance level of 0.05, suggests strong evidence to reject the null hypothesis. There is a substantial and statistically significant difference in the first and second diastolic blood pressure measurements"
      ]
    },
    {
      "cell_type": "markdown",
      "metadata": {
        "id": "cKRyXvC5qGcX"
      },
      "source": [
        "__Q5b.__ Pretend that the first and second diastolic blood pressure measurements were taken on different people.  Modfify the analysis above as appropriate for this setting."
      ]
    },
    {
      "cell_type": "code",
      "execution_count": null,
      "metadata": {
        "id": "9IsBKQzoqGcX",
        "colab": {
          "base_uri": "https://localhost:8080/"
        },
        "outputId": "40a286a5-4eb9-4e79-ac5e-b24912f9f384"
      },
      "outputs": [
        {
          "output_type": "execute_result",
          "data": {
            "text/plain": [
              "(0.6848982193746492, 0.49340814971248503)"
            ]
          },
          "metadata": {},
          "execution_count": 97
        }
      ],
      "source": [
        "f_bp = da.loc[(da.BPXDI1.notnull()),'BPXDI1']\n",
        "s_bp = da.loc[(da.BPXDI2.notnull()),'BPXDI2']\n",
        "\n",
        "sm.stats.ztest(f_bp, s_bp)"
      ]
    },
    {
      "cell_type": "markdown",
      "metadata": {
        "id": "cyy8cGnMqGcX"
      },
      "source": [
        "__Q5c.__ Briefly describe how the approaches used and the results obtained in the preceeding two parts of the question differ."
      ]
    },
    {
      "cell_type": "markdown",
      "metadata": {
        "id": "RWz7ACKDqGcX"
      },
      "source": [
        "The first method used assumes paired data. In this situation the test revealed that the two blood pressures are statistically different. In the second method paired data is not assumed and the test indicated that the p value is higher than the significance level so we fail to reject the null hypothesis and accept that the two blood presser"
      ]
    }
  ],
  "metadata": {
    "kernelspec": {
      "display_name": "Python 3 (ipykernel)",
      "language": "python",
      "name": "python3"
    },
    "language_info": {
      "codemirror_mode": {
        "name": "ipython",
        "version": 3
      },
      "file_extension": ".py",
      "mimetype": "text/x-python",
      "name": "python",
      "nbconvert_exporter": "python",
      "pygments_lexer": "ipython3",
      "version": "3.9.7"
    },
    "colab": {
      "provenance": []
    }
  },
  "nbformat": 4,
  "nbformat_minor": 0
}